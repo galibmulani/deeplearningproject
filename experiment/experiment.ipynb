{
 "cells": [
  {
   "cell_type": "code",
   "execution_count": 19,
   "id": "71f308f8",
   "metadata": {},
   "outputs": [],
   "source": [
    "import os\n",
    "import sys\n",
    "import traceback"
   ]
  },
  {
   "cell_type": "code",
   "execution_count": 32,
   "id": "63fd3381",
   "metadata": {},
   "outputs": [
    {
     "name": "stdout",
     "output_type": "stream",
     "text": [
      "C:\\Users\\Lenovo\\deeplearningproject\\requirements_de.txt | (<class 'FileNotFoundError'>, FileNotFoundError(2, 'No such file or directory'))\n",
      "<frame at 0x000001FC0C49EF90, file 'C:\\\\Users\\\\Lenovo\\\\AppData\\\\Local\\\\Temp\\\\ipykernel_4612\\\\1977213077.py', line 12, code <module>> 4 18\n",
      "C:\\Users\\Lenovo\\AppData\\Local\\Temp\\ipykernel_4612\\1977213077.py\n",
      "1977213077.py\n"
     ]
    }
   ],
   "source": [
    "file_path = [r'C:\\Users\\Lenovo\\deeplearningproject\\requirements_de.txt',r'C:\\Users\\Lenovo\\deeplearningproject\\requirements.txt'] \n",
    "try:\n",
    "    for file in file_path:\n",
    "        with open(file,'r')as f:\n",
    "            print(\"Yes\")\n",
    "except Exception as e:\n",
    "    #print(file,\"|\",sys.exc_info())\n",
    "    #traceback.print_tb()\n",
    "    exc_type,exc_value,exc_tb = sys.exc_info()\n",
    "    print(file,\"|\",(exc_type,exc_value))\n",
    "    #traceback.print_tb(exc_tb)\n",
    "    print(exc_tb.tb_frame,exc_tb.tb_lineno,exc_tb.tb_lasti)\n",
    "    print(exc_tb.tb_frame.f_code.co_filename)\n",
    "    file_name: str = os.path.split(exc_tb.tb_frame.f_code.co_filename)[1]\n",
    "    print(file_name)"
   ]
  },
  {
   "cell_type": "code",
   "execution_count": 35,
   "id": "5f716b91",
   "metadata": {},
   "outputs": [],
   "source": [
    "import os\n",
    "import sys\n",
    "\n",
    "def error_messge_detail(error:Exception, error_detail:sys):\n",
    "    _,_,exc_tb = error_detail.exc_info()\n",
    "\n",
    "    file_name: str = os.path.split(exc_tb.tb_frame.f_code.co_filename)[1]\n",
    "\n",
    "    error_message = \"Error occured in python script name [{0}] line number [{1}] error message [{2}]\".format(\n",
    "        file_name, exc_tb.tb_lineno, str(error)\n",
    "    )\n",
    "\n",
    "    return error_message;\n",
    "\n",
    "\n",
    "class XRayExceptions(Exception):\n",
    "    def __init__(self,error_message,error_detail:sys):\n",
    "        super().__init__(error_message)\n",
    "        self.error_message = error_messge_detail(error_message,error_detail)\n",
    "    def __str__(self):\n",
    "        return self.error_message"
   ]
  },
  {
   "cell_type": "code",
   "execution_count": 36,
   "id": "72e92b32",
   "metadata": {},
   "outputs": [
    {
     "name": "stdout",
     "output_type": "stream",
     "text": [
      "\n",
      "Error occured in python script name [2059867864.py] line number [7] error message [division by zero]\n",
      "Error occured in python script name [2059867864.py] line number [13] error message [invalid literal for int() with base 10: 'abc']\n"
     ]
    }
   ],
   "source": [
    "import os\n",
    "import sys\n",
    "from Xray.exceptions import XRayExceptions\n",
    "\n",
    "def function_that_raises():\n",
    "    try:\n",
    "        1/0\n",
    "    except Exception as e:\n",
    "        raise XRayExceptions(e,sys)\n",
    "    \n",
    "def function_that_raises_convert_error():\n",
    "    try:\n",
    "        int(\"abc\")\n",
    "    except Exception as e:\n",
    "        raise XRayExceptions(e,sys)\n",
    "    \n",
    "#function_that_raises()\n",
    "print()\n",
    "#function_that_raises_convert_error()\n",
    "for fun in [function_that_raises, function_that_raises_convert_error]:\n",
    "    try:\n",
    "        fun()\n",
    "    except XRayExceptions as xe:\n",
    "        print(xe)"
   ]
  }
 ],
 "metadata": {
  "kernelspec": {
   "display_name": "env",
   "language": "python",
   "name": "python3"
  },
  "language_info": {
   "codemirror_mode": {
    "name": "ipython",
    "version": 3
   },
   "file_extension": ".py",
   "mimetype": "text/x-python",
   "name": "python",
   "nbconvert_exporter": "python",
   "pygments_lexer": "ipython3",
   "version": "3.8.20"
  }
 },
 "nbformat": 4,
 "nbformat_minor": 5
}
